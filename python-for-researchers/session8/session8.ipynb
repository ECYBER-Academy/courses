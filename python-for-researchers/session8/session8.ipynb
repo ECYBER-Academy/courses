{
    "cells": [
     {
      "cell_type": "markdown",
      "id": "06cddfe7",
      "metadata": {},
      "source": [
       "\n",
       "# Session 8: Introduction to Machine Learning with scikit-learn\n",
       "\n",
       "## Objective\n",
       "Explore basic machine learning concepts and applications using Scikit-Learn with visualizations and real-world datasets.\n"
      ]
     },
     {
      "cell_type": "code",
      "execution_count": null,
      "id": "62cc9d97",
      "metadata": {},
      "outputs": [],
      "source": [
       "\n",
       "# Install required packages\n",
       "pip install scikit-learn matplotlib seaborn pandas --quiet\n"
      ]
     },
     {
      "cell_type": "code",
      "execution_count": null,
      "id": "19dbfcff",
      "metadata": {},
      "outputs": [],
      "source": [
       "\n",
       "import numpy as np\n",
       "import pandas as pd\n",
       "import matplotlib.pyplot as plt\n",
       "import seaborn as sns\n",
       "from sklearn.model_selection import train_test_split\n",
       "from sklearn.linear_model import LinearRegression\n",
       "from sklearn.cluster import KMeans\n",
       "from sklearn.metrics import mean_squared_error, accuracy_score\n",
       "from sklearn.datasets import load_diabetes\n"
      ]
     },
     {
      "cell_type": "markdown",
      "id": "f6af5b6d",
      "metadata": {},
      "source": [
       "## Using Real-World Dataset: Diabetes"
      ]
     },
     {
      "cell_type": "code",
      "execution_count": null,
      "id": "ccd5523c",
      "metadata": {},
      "outputs": [],
      "source": [
       "\n",
       "# Load diabetes dataset\n",
       "diabetes = load_diabetes()\n",
       "df = pd.DataFrame(diabetes.data, columns=diabetes.feature_names)\n",
       "df['target'] = diabetes.target\n",
       "df.head()\n"
      ]
     },
     {
      "cell_type": "markdown",
      "id": "43e59d0b",
      "metadata": {},
      "source": [
       "## Data Visualization"
      ]
     },
     {
      "cell_type": "code",
      "execution_count": null,
      "id": "856a5fbe",
      "metadata": {},
      "outputs": [],
      "source": [
       "\n",
       "# Visualize correlation heatmap\n",
       "plt.figure(figsize=(10, 6))\n",
       "sns.heatmap(df.corr(), annot=True, cmap=\"coolwarm\")\n",
       "plt.title(\"Feature Correlation Heatmap\")\n",
       "plt.show()\n"
      ]
     },
     {
      "cell_type": "markdown",
      "id": "b79df660",
      "metadata": {},
      "source": [
       "## Supervised Learning: Linear Regression"
      ]
     },
     {
      "cell_type": "code",
      "execution_count": null,
      "id": "2082f330",
      "metadata": {},
      "outputs": [],
      "source": [
       "\n",
       "# Selecting features and target\n",
       "X = df[['bmi']]  # Body Mass Index\n",
       "y = df['target']\n",
       "\n",
       "# Splitting the dataset\n",
       "X_train, X_test, y_train, y_test = train_test_split(X, y, test_size=0.2, random_state=42)\n",
       "\n",
       "# Training model\n",
       "model = LinearRegression()\n",
       "model.fit(X_train, y_train)\n",
       "y_pred = model.predict(X_test)\n",
       "\n",
       "# Evaluation\n",
       "print(\"Mean Squared Error:\", mean_squared_error(y_test, y_pred))\n",
       "\n",
       "# Plotting predictions\n",
       "plt.figure(figsize=(8, 5))\n",
       "plt.scatter(X_test, y_test, color='blue', label='Actual')\n",
       "plt.plot(X_test, y_pred, color='red', label='Predicted')\n",
       "plt.title(\"Linear Regression: BMI vs Target\")\n",
       "plt.xlabel(\"BMI\")\n",
       "plt.ylabel(\"Disease Progression\")\n",
       "plt.legend()\n",
       "plt.show()\n"
      ]
     },
     {
      "cell_type": "markdown",
      "id": "503a4351",
      "metadata": {},
      "source": [
       "## Unsupervised Learning: K-Means Clustering"
      ]
     },
     {
      "cell_type": "code",
      "execution_count": null,
      "id": "88a5287b",
      "metadata": {},
      "outputs": [],
      "source": [
       "\n",
       "# Using two features for clustering\n",
       "X = df[['bmi', 'bp']]\n",
       "\n",
       "# Applying K-Means\n",
       "kmeans = KMeans(n_clusters=3, random_state=42)\n",
       "clusters = kmeans.fit_predict(X)\n",
       "df['cluster'] = clusters\n",
       "\n",
       "# Visualizing clusters\n",
       "plt.figure(figsize=(8, 6))\n",
       "sns.scatterplot(data=df, x='bmi', y='bp', hue='cluster', palette='Set2')\n",
       "plt.title(\"K-Means Clustering (BMI vs BP)\")\n",
       "plt.xlabel(\"BMI\")\n",
       "plt.ylabel(\"Blood Pressure\")\n",
       "plt.show()\n"
      ]
     },
     {
      "cell_type": "markdown",
      "id": "b4081171",
      "metadata": {},
      "source": [
       "\n",
       "## 🔍 Bonus Challenge\n",
       "\n",
       "Use any real-world dataset (from Kaggle, UCI, or `sklearn.datasets`) and do the following:\n",
       "\n",
       "1. Load and explore the dataset.\n",
       "2. Visualize the data using heatmaps, scatter plots, etc.\n",
       "3. Train a linear regression model using one or more features.\n",
       "4. Evaluate the model using Mean Squared Error or R² score.\n",
       "5. Optional: Apply KMeans clustering and visualize the clusters.\n",
       "\n",
       "You can try this with datasets like:\n",
       "- California Housing (`from sklearn.datasets import fetch_california_housing`)\n",
       "- Iris\n",
       "- Wine\n",
       "\n",
       "Happy experimenting! 🎯\n"
      ]
     }
    ],
    "metadata": {
     "language_info": {
      "name": "python"
     }
    },
    "nbformat": 4,
    "nbformat_minor": 5
   }
   