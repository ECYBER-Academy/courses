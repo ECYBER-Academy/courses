{
 "cells": [
  {
   "cell_type": "markdown",
   "id": "4586b3a7",
   "metadata": {},
   "source": [
    "\n",
    "# Installing Python and Jupyter Notebook/IDE Setup\n",
    "\n",
    "This notebook guides you through installing Python and setting up your development environment, including Jupyter Notebook and alternative IDEs. It also introduces essential Python libraries commonly used in research.\n"
   ]
  },
  {
   "cell_type": "markdown",
   "id": "885ccfb9",
   "metadata": {},
   "source": [
    "\n",
    "## Installing Python\n",
    "\n",
    "1. Go to the official Python website: [https://www.python.org/downloads/](https://www.python.org/downloads/)\n",
    "2. Download and install the latest version for your operating system.\n",
    "3. During installation, make sure to check the box **\"Add Python to PATH\"**.\n",
    "\n",
    "### Verify Python Installation\n",
    "\n",
    "Open your terminal or command prompt and run:\n",
    "\n",
    "```bash\n",
    "python --version\n",
    "```\n",
    "or on some systems:\n",
    "\n",
    "```bash\n",
    "python3 --version\n",
    "```\n",
    "You should see something like `Python 3.10.5`.\n"
   ]
  },
  {
   "cell_type": "markdown",
   "id": "402fe6ea",
   "metadata": {},
   "source": [
    "\n",
    "## Setting Up Jupyter Notebook\n",
    "\n",
    "Jupyter Notebook is an interactive environment for writing and running code. It's widely used for data science and research workflows.\n",
    "\n",
    "### Install Jupyter Notebook\n",
    "\n",
    "Use pip to install Jupyter:\n",
    "\n",
    "```bash\n",
    "pip install notebook\n",
    "```\n",
    "\n",
    "### Start Jupyter Notebook\n",
    "\n",
    "Launch Jupyter by running:\n",
    "\n",
    "```bash\n",
    "jupyter notebook\n",
    "```\n",
    "\n",
    "A new tab will open in your default web browser where you can create and manage notebooks.\n"
   ]
  },
  {
   "cell_type": "markdown",
   "id": "97025638",
   "metadata": {},
   "source": [
    "\n",
    "## Alternative Python IDEs\n",
    "\n",
    "If you're looking for a full-featured Integrated Development Environment (IDE), consider one of the following:\n",
    "\n",
    "- **VS Code** (Recommended for advanced users): Lightweight and customizable. Install the Python extension.\n",
    "- **PyCharm**: Great for large projects. Includes virtual environment and debugger support.\n",
    "- **Spyder**: Ideal for scientific computing. Comes with a MATLAB-like interface.\n"
   ]
  },
  {
   "cell_type": "markdown",
   "id": "ba4da3fd",
   "metadata": {},
   "source": [
    "\n",
    "# Overview of Python Libraries for Research\n",
    "\n",
    "These libraries form the foundation of Python-based research and data analysis:\n",
    "\n",
    "| Library | Purpose |\n",
    "| ------- | ------- |\n",
    "| **NumPy** | Numerical computing, working with arrays |\n",
    "| **pandas** | Data analysis and manipulation tools |\n",
    "| **matplotlib** | Data visualization and plotting |\n",
    "| **SciPy** | Advanced scientific functions |\n",
    "| **scikit-learn** | Machine learning models and tools |\n",
    "| **seaborn** | Statistical data visualization built on top of matplotlib |\n"
   ]
  },
  {
   "cell_type": "code",
   "execution_count": null,
   "id": "466f5cae-bef4-43a6-9d1b-98eb8448c7d9",
   "metadata": {},
   "outputs": [],
   "source": [
    "# Example: Using NumPy, pandas, and matplotlib\n",
    "import numpy as np\n",
    "import pandas as pd\n",
    "import matplotlib.pyplot as plt\n",
    "\n",
    "# Generate 100 random numbers from a normal distribution\n",
    "data = np.random.randn(100)\n",
    "\n",
    "# Convert to pandas Series for analysis\n",
    "series = pd.Series(data)\n",
    "\n",
    "# Display basic statistics\n",
    "print(\"Mean:\", series.mean())\n",
    "print(\"Standard Deviation:\", series.std())\n",
    "\n",
    "# Create a histogram\n",
    "plt.hist(series, bins=10, color='skyblue', edgecolor='black')\n",
    "plt.title(\"Histogram of Random Data\")\n",
    "plt.xlabel(\"Value\")\n",
    "plt.ylabel(\"Frequency\")\n",
    "plt.grid(True)\n",
    "plt.show()"
   ]
  }
 ],
 "metadata": {
  "kernelspec": {
   "display_name": "Python 3 (ipykernel)",
   "language": "python",
   "name": "python3"
  },
  "language_info": {
   "codemirror_mode": {
    "name": "ipython",
    "version": 3
   },
   "file_extension": ".py",
   "mimetype": "text/x-python",
   "name": "python",
   "nbconvert_exporter": "python",
   "pygments_lexer": "ipython3",
   "version": "3.12.0"
  }
 },
 "nbformat": 4,
 "nbformat_minor": 5
}
