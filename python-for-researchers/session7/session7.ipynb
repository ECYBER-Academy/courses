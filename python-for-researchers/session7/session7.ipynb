{
 "cells": [
  {
   "cell_type": "markdown",
   "metadata": {},
   "source": [
    "# Session 7: Statistical Analysis with Python\n",
    "\n",
    "**Objective:** Perform statistical analysis using Python libraries such as NumPy and SciPy."
   ]
  },
  {
   "cell_type": "markdown",
   "metadata": {},
   "source": [
    "## 1. Introduction to NumPy and SciPy\n",
    "\n",
    "- **NumPy**: A fundamental package for numerical computing in Python.\n",
    "- **SciPy**: A library built on NumPy that provides additional scientific computing capabilities."
   ]
  },
  {
   "cell_type": "code",
   "execution_count": null,
   "metadata": {},
   "outputs": [],
   "source": [
    "# Install libraries (if not already installed)\n",
    "# pip install numpy scipy"
   ]
  },
  {
   "cell_type": "code",
   "execution_count": null,
   "metadata": {},
   "outputs": [],
   "source": [
    "# Import libraries\n",
    "import numpy as np\n",
    "from scipy import stats"
   ]
  },
  {
   "cell_type": "markdown",
   "metadata": {},
   "source": [
    "## 2. Descriptive Statistics"
   ]
  },
  {
   "cell_type": "code",
   "execution_count": null,
   "metadata": {},
   "outputs": [],
   "source": [
    "# Mean, Median, and Standard Deviation\n",
    "data = [12, 15, 14, 10, 18, 20, 15, 14, 17, 16]\n",
    "\n",
    "mean_value = np.mean(data)\n",
    "median_value = np.median(data)\n",
    "std_dev = np.std(data)\n",
    "\n",
    "print(f\"Mean: {mean_value}, Median: {median_value}, Standard Deviation: {std_dev}\")"
   ]
  },
  {
   "cell_type": "code",
   "execution_count": null,
   "metadata": {},
   "outputs": [],
   "source": [
    "# Five-Number Summary\n",
    "q1, q3 = np.percentile(data, [25, 75])\n",
    "minimum, maximum = np.min(data), np.max(data)\n",
    "print(f\"Min: {minimum}, Q1: {q1}, Median: {median_value}, Q3: {q3}, Max: {maximum}\")"
   ]
  },
  {
   "cell_type": "markdown",
   "metadata": {},
   "source": [
    "## 3. Hypothesis Testing and Regression Analysis"
   ]
  },
  {
   "cell_type": "code",
   "execution_count": null,
   "metadata": {},
   "outputs": [],
   "source": [
    "# T-test (Comparing Two Groups)\n",
    "group1 = [22, 24, 20, 23, 21, 19, 25]\n",
    "group2 = [30, 32, 29, 31, 28, 35, 33]\n",
    "\n",
    "stat, p_value = stats.ttest_ind(group1, group2)\n",
    "print(f\"T-test Statistic: {stat}, P-value: {p_value}\")"
   ]
  },
  {
   "cell_type": "code",
   "execution_count": null,
   "metadata": {},
   "outputs": [],
   "source": [
    "# Linear Regression Analysis\n",
    "from scipy.stats import linregress\n",
    "\n",
    "x = np.array([1, 2, 3, 4, 5, 6])\n",
    "y = np.array([2, 4, 5, 4, 5, 7])\n",
    "\n",
    "slope, intercept, r_value, p_value, std_err = linregress(x, y)\n",
    "print(f\"Slope: {slope}, Intercept: {intercept}, R-squared: {r_value**2}\")"
   ]
  },
  {
   "cell_type": "markdown",
   "metadata": {},
   "source": [
    "## Activity: Analyze a Dataset"
   ]
  },
  {
   "cell_type": "code",
   "execution_count": null,
   "metadata": {},
   "outputs": [],
   "source": [
    "# Task 1: Load a dataset and compute descriptive statistics\n",
    "import pandas as pd\n",
    "\n",
    "# Replace 'data.csv' with your actual file\n",
    "df = pd.read_csv(\"data.csv\")\n",
    "print(df.describe())"
   ]
  },
  {
   "cell_type": "code",
   "execution_count": null,
   "metadata": {},
   "outputs": [],
   "source": [
    "# Task 2: Perform hypothesis testing on a dataset\n",
    "group1 = df[df['group'] == 'A']['value']\n",
    "group2 = df[df['group'] == 'B']['value']\n",
    "\n",
    "stat, p_value = stats.ttest_ind(group1, group2)\n",
    "print(f\"T-test P-value: {p_value}\")"
   ]
  }
 ],
 "metadata": {
  "kernelspec": {
   "display_name": "Python 3",
   "language": "python",
   "name": "python3"
  },
  "language_info": {
   "name": "python"
  }
 },
 "nbformat": 4,
 "nbformat_minor": 5
}
