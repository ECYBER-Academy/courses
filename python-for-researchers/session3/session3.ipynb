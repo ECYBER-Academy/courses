{
 "cells": [
  {
   "cell_type": "markdown",
   "metadata": {},
   "source": [
    "# Session 3: Data Structures in Python\n",
    "\n",
    "## Objective\n",
    "Work with essential data structures for data handling, including lists, tuples, dictionaries, and sets."
   ]
  },
  {
   "cell_type": "markdown",
   "metadata": {},
   "source": [
    "## 1. Lists, Tuples, Dictionaries, and Sets"
   ]
  },
  {
   "cell_type": "code",
   "execution_count": null,
   "metadata": {},
   "outputs": [],
   "source": [
    "# Lists: Ordered, mutable collection\n",
    "fruits = [\"apple\", \"banana\", \"cherry\"]\n",
    "fruits.append(\"orange\")  # Add item\n",
    "fruits.remove(\"banana\")  # Remove item\n",
    "print(\"Updated fruits list:\", fruits)"
   ]
  },
  {
   "cell_type": "code",
   "execution_count": null,
   "metadata": {},
   "outputs": [],
   "source": [
    "# Tuples: Ordered, immutable collection\n",
    "coordinates = (10.5, 20.3)\n",
    "print(\"First coordinate:\", coordinates[0])"
   ]
  },
  {
   "cell_type": "code",
   "execution_count": null,
   "metadata": {},
   "outputs": [],
   "source": [
    "# Dictionaries: Key-value pairs\n",
    "student = {\"name\": \"Alice\", \"age\": 22, \"major\": \"Physics\"}\n",
    "print(\"Student Name:\", student[\"name\"])\n",
    "student[\"age\"] = 23\n",
    "print(\"Updated Student Info:\", student)"
   ]
  },
  {
   "cell_type": "code",
   "execution_count": null,
   "metadata": {},
   "outputs": [],
   "source": [
    "# Sets: Unordered, unique items\n",
    "unique_numbers = {1, 2, 3, 3, 4}\n",
    "unique_numbers.add(5)\n",
    "print(\"Unique numbers:\", unique_numbers)"
   ]
  },
  {
   "cell_type": "markdown",
   "metadata": {},
   "source": [
    "## 2. Indexing, Slicing, and Operations"
   ]
  },
  {
   "cell_type": "code",
   "execution_count": null,
   "metadata": {},
   "outputs": [],
   "source": [
    "# Indexing and slicing\n",
    "numbers = [10, 20, 30, 40, 50]\n",
    "print(\"Second element:\", numbers[1])\n",
    "print(\"First three elements:\", numbers[:3])\n",
    "print(\"Last element:\", numbers[-1])"
   ]
  },
  {
   "cell_type": "code",
   "execution_count": null,
   "metadata": {},
   "outputs": [],
   "source": [
    "# Dictionary operations\n",
    "print(\"Keys:\", student.keys())\n",
    "print(\"Values:\", student.values())"
   ]
  },
  {
   "cell_type": "code",
   "execution_count": null,
   "metadata": {},
   "outputs": [],
   "source": [
    "# Set operations\n",
    "set1 = {1, 2, 3}\n",
    "set2 = {3, 4, 5}\n",
    "print(\"Union:\", set1 | set2)\n",
    "print(\"Intersection:\", set1 & set2)"
   ]
  },
  {
   "cell_type": "markdown",
   "metadata": {},
   "source": [
    "## 3. Basic Functions and Built-in Python Functions"
   ]
  },
  {
   "cell_type": "code",
   "execution_count": null,
   "metadata": {},
   "outputs": [],
   "source": [
    "# Defining a function\n",
    "def greet(name):\n",
    "    return f\"Hello, {name}!\"\n",
    "\n",
    "print(greet(\"Alice\"))"
   ]
  },
  {
   "cell_type": "code",
   "execution_count": null,
   "metadata": {},
   "outputs": [],
   "source": [
    "# Built-in functions\n",
    "numbers = [5, 3, 8, 1]\n",
    "print(\"Length:\", len(numbers))\n",
    "print(\"Sum:\", sum(numbers))\n",
    "print(\"Sorted:\", sorted(numbers))"
   ]
  },
  {
   "cell_type": "markdown",
   "metadata": {},
   "source": [
    "## Activity: Manipulate Data Structures and Write Functions"
   ]
  },
  {
   "cell_type": "code",
   "execution_count": null,
   "metadata": {},
   "outputs": [],
   "source": [
    "# Task 1: Remove duplicates and sort list\n",
    "def clean_list(data):\n",
    "    return sorted(list(set(data)))\n",
    "\n",
    "nums = [4, 2, 8, 4, 3, 8, 1]\n",
    "print(\"Cleaned list:\", clean_list(nums))"
   ]
  },
  {
   "cell_type": "code",
   "execution_count": null,
   "metadata": {},
   "outputs": [],
   "source": [
    "# Task 2: Dictionary lookup\n",
    "def get_grade(student_name, grades):\n",
    "    return grades.get(student_name, \"Not found\")\n",
    "\n",
    "grades = {\"Alice\": 85, \"Bob\": 90, \"Charlie\": 78}\n",
    "print(\"Bob's Grade:\", get_grade(\"Bob\", grades))"
   ]
  }
 ],
 "metadata": {
  "kernelspec": {
   "display_name": "Python 3",
   "language": "python",
   "name": "python3"
  },
  "language_info": {
   "name": "python",
   "version": ""
  }
 },
 "nbformat": 4,
 "nbformat_minor": 2
}
