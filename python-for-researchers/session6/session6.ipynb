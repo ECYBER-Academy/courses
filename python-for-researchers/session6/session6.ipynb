{
 "cells": [
  {
   "cell_type": "markdown",
   "metadata": {},
   "source": [
    "# Session 6: Automating Tasks with Python\n",
    "\n",
    "**Objective:** Learn how to use Python to automate repetitive research tasks efficiently."
   ]
  },
  {
   "cell_type": "markdown",
   "metadata": {},
   "source": [
    "## 1. Writing Python Scripts\n",
    "\n",
    "- Python scripts are text files containing Python code that can be executed to automate tasks.\n",
    "- Use `.py` as the file extension for Python scripts."
   ]
  },
  {
   "cell_type": "code",
   "execution_count": 1,
   "metadata": {},
   "outputs": [],
   "source": [
    "# Rename multiple files in a folder\n",
    "def rename_files(folder_path, prefix):\n",
    "    import os\n",
    "    for index, filename in enumerate(os.listdir(folder_path)):\n",
    "        new_name = f\"{prefix}_{index + 1}{os.path.splitext(filename)[1]}\"\n",
    "        os.rename(os.path.join(folder_path, filename), os.path.join(folder_path, new_name))\n",
    "\n",
    "# Example usage\n",
    "# rename_files('/path/to/folder', 'sample')"
   ]
  },
  {
   "cell_type": "code",
   "execution_count": null,
   "metadata": {},
   "outputs": [],
   "source": [
    "# Extract and summarize data from a CSV file\n",
    "import pandas as pd\n",
    "\n",
    "def summarize_data(file_path):\n",
    "    df = pd.read_csv(file_path)\n",
    "    summary = df.describe()\n",
    "    print(summary)\n",
    "\n",
    "# Example usage\n",
    "# summarize_data('data.csv')"
   ]
  },
  {
   "cell_type": "code",
   "execution_count": null,
   "metadata": {},
   "outputs": [],
   "source": [
    "# Download and save web content\n",
    "import requests\n",
    "\n",
    "def download_web_content(url, output_file):\n",
    "    response = requests.get(url)\n",
    "    with open(output_file, 'w', encoding='utf-8') as file:\n",
    "        file.write(response.text)\n",
    "\n",
    "# Example usage\n",
    "# download_web_content('https://example.com', 'web_content.html')"
   ]
  },
  {
   "cell_type": "markdown",
   "metadata": {},
   "source": [
    "## 2. Scheduling Python Scripts"
   ]
  },
  {
   "cell_type": "markdown",
   "metadata": {},
   "source": [
    "- **Windows:** Use Task Scheduler\n",
    "- **Linux/Mac:** Use `cron` jobs"
   ]
  },
  {
   "cell_type": "code",
   "execution_count": null,
   "metadata": {},
   "outputs": [],
   "source": [
    "# Example Cron Job (run daily at 8 AM)\n",
    "!echo \"0 8 * * * /usr/bin/python3 /path/to/your_script.py\""
   ]
  },
  {
   "cell_type": "markdown",
   "metadata": {},
   "source": [
    "**Windows Task Scheduler Example:**\n",
    "\n",
    "1. Open **Task Scheduler**.\n",
    "2. Select **Create Basic Task**.\n",
    "3. Set the schedule (e.g., daily at 8 AM).\n",
    "4. Choose **Start a Program** and set the path to `python.exe` with your script as an argument."
   ]
  },
  {
   "cell_type": "markdown",
   "metadata": {},
   "source": [
    "## 3. Examples of Automated Tasks"
   ]
  },
  {
   "cell_type": "code",
   "execution_count": null,
   "metadata": {},
   "outputs": [],
   "source": [
    "# Batch Data Processing\n",
    "import pandas as pd\n",
    "\n",
    "def clean_and_save_data(input_file, output_file):\n",
    "    df = pd.read_csv(input_file)\n",
    "    df.dropna(inplace=True)\n",
    "    df.to_csv(output_file, index=False)\n",
    "    print(f\"Data cleaned and saved to {output_file}\")\n",
    "\n",
    "# Example usage\n",
    "# clean_and_save_data('raw_data.csv', 'cleaned_data.csv')"
   ]
  },
  {
   "cell_type": "code",
   "execution_count": null,
   "metadata": {},
   "outputs": [],
   "source": [
    "# Renaming Files\n",
    "import os\n",
    "\n",
    "def add_prefix_to_files(folder_path, prefix):\n",
    "    for filename in os.listdir(folder_path):\n",
    "        new_name = f\"{prefix}_{filename}\"\n",
    "        os.rename(os.path.join(folder_path, filename), os.path.join(folder_path, new_name))\n",
    "\n",
    "# Example usage\n",
    "# add_prefix_to_files('/path/to/folder', 'project')"
   ]
  },
  {
   "cell_type": "code",
   "execution_count": null,
   "metadata": {},
   "outputs": [],
   "source": [
    "# Web Scraping Basics\n",
    "import requests\n",
    "from bs4 import BeautifulSoup\n",
    "\n",
    "url = \"https://example.com/articles\"\n",
    "response = requests.get(url)\n",
    "soup = BeautifulSoup(response.content, 'html.parser')\n",
    "\n",
    "for article in soup.find_all('h2'):\n",
    "    print(article.text)"
   ]
  },
  {
   "cell_type": "markdown",
   "metadata": {},
   "source": [
    "## Activity: Automate a Simple File Management Task\n",
    "\n",
    "**Objective:** Write a Python script that:\n",
    "- Creates a new folder called `organized_files`.\n",
    "- Moves all `.txt` files from the current folder into the new folder."
   ]
  },
  {
   "cell_type": "code",
   "execution_count": null,
   "metadata": {},
   "outputs": [],
   "source": [
    "import os\n",
    "import shutil\n",
    "\n",
    "# Create a folder for organized files\n",
    "if not os.path.exists('organized_files'):\n",
    "    os.makedirs('organized_files')\n",
    "\n",
    "# Move all .txt files to the new folder\n",
    "for file in os.listdir('.'):\n",
    "    if file.endswith('.txt'):\n",
    "        shutil.move(file, os.path.join('organized_files', file))\n",
    "\n",
    "print(\"Files organized successfully!\")"
   ]
  }
 ],
 "metadata": {
  "kernelspec": {
   "display_name": "Python 3",
   "language": "python",
   "name": "python3"
  },
  "language_info": {
   "codemirror_mode": {
    "name": "ipython",
    "version": 3
   },
   "file_extension": ".py",
   "mimetype": "text/x-python",
   "name": "python",
   "nbconvert_exporter": "python",
   "pygments_lexer": "ipython3",
   "version": "3.13.2"
  }
 },
 "nbformat": 4,
 "nbformat_minor": 5
}
