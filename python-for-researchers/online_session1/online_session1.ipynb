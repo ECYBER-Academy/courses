{
 "cells": [
  {
   "cell_type": "code",
   "execution_count": null,
   "id": "a9fb8a1c",
   "metadata": {},
   "outputs": [],
   "source": [
    "# https://archive.ics.uci.edu/static/public/320/student+performance.zip\n",
    "\n",
    "# pip install seaborn\n",
    "import piplite \n",
    "piplite.install(\"seaborn\")\n",
    "# import the pandas lib\n",
    "import pandas as pd\n",
    "import numpy as np\n",
    "import matplotlib.pyplot as plt\n",
    "import seaborn as sns"
   ]
  },
  {
   "cell_type": "code",
   "execution_count": null,
   "id": "fbacb775",
   "metadata": {},
   "outputs": [],
   "source": [
    "def format_file(input_file, output_file):\n",
    "    with open(input_file, \"r\") as f:\n",
    "        content = f.read()\n",
    "        \n",
    "    updated_content = content.replace(\";\",\",\")\n",
    "\n",
    "    with open(output_file, \"w\") as nf:\n",
    "        nf.write(updated_content)\n",
    "\n",
    "format_file(\"student-por.csv\", \"student-por-updated.csv\")"
   ]
  },
  {
   "cell_type": "code",
   "execution_count": null,
   "id": "d96bdeee",
   "metadata": {},
   "outputs": [],
   "source": [
    "data = pd.read_csv(\"student-por-updated.csv\")\n",
    "# check the data structure \n",
    "data.head()\n",
    "data.describe()\n",
    "data.info()"
   ]
  },
  {
   "cell_type": "code",
   "execution_count": null,
   "id": "c4209699",
   "metadata": {},
   "outputs": [],
   "source": [
    "print(data[\"sex\"][5:15])"
   ]
  },
  {
   "cell_type": "code",
   "execution_count": null,
   "id": "8fcf8143",
   "metadata": {},
   "outputs": [],
   "source": [
    "data[\"sex\"] = data[\"sex\"].map({\"M\":0, \"F\":1}) \n",
    "print(data[\"sex\"][5:15])"
   ]
  },
  {
   "cell_type": "code",
   "execution_count": null,
   "id": "54722001",
   "metadata": {},
   "outputs": [],
   "source": [
    "data.fillna(0, inplace=False)"
   ]
  },
  {
   "cell_type": "code",
   "execution_count": null,
   "id": "1c7cebed",
   "metadata": {},
   "outputs": [],
   "source": [
    "def create_age_group(age):\n",
    "    if age < 18:\n",
    "        return \"Child\"\n",
    "    elif 18 <= age <=65:\n",
    "        return \"Adult\"\n",
    "    else:\n",
    "        return \"Old\""
   ]
  },
  {
   "cell_type": "code",
   "execution_count": null,
   "id": "e766c220",
   "metadata": {},
   "outputs": [],
   "source": [
    "data[\"age_group\"] = data[\"age\"].apply(create_age_group)\n",
    "print(data[\"age_group\"][5:15])"
   ]
  },
  {
   "cell_type": "code",
   "execution_count": null,
   "id": "3a0f9e31",
   "metadata": {},
   "outputs": [],
   "source": [
    "plt.figure(figsize=(8,5))\n",
    "sns.boxplot(x=\"sex\", y=\"G3\", data=data)\n",
    "# sns.histplot(data[\"studytime\"], bins=4)\n",
    "# plt.plot(data[\"sex\"], data[\"G3\"])\n",
    "plt.title(\"Final Grade by Gender\")\n",
    "plt.xlabel(\"Gender\")\n",
    "plt.ylabel(\"Final Grade\")\n",
    "plt.show()"
   ]
  },
  {
   "cell_type": "code",
   "execution_count": null,
   "id": "f575b026",
   "metadata": {},
   "outputs": [],
   "source": [
    "plt.scatter(data[\"absences\"], data[\"G3\"], color=\"green\", alpha=0.8)\n",
    "plt.title(\"Absence vs Final Grade\")\n",
    "plt.xlabel(\"Absence\")\n",
    "plt.ylabel(\"Grade\")\n",
    "plt.grid(True)\n",
    "plt.show()"
   ]
  },
  {
   "cell_type": "code",
   "execution_count": null,
   "id": "dcd9b8d5",
   "metadata": {},
   "outputs": [],
   "source": [
    "gender_avg_grade = data.groupby(\"sex\")[\"G3\"].mean()\n",
    "labels = [\"Male\", \"Female\"]\n",
    "plt.bar(labels, gender_avg_grade.values, color = [\"blue\",\"pink\"])\n",
    "for i , val in enumerate(gender_avg_grade.values):\n",
    "    plt.text(i, val, f'{val:.1f}', ha='center')\n",
    "plt.title(\"Average grade by Gender\")\n",
    "plt.ylabel(\"Grade\")\n",
    "plt.show()"
   ]
  }
 ],
 "metadata": {
  "language_info": {
   "name": "python"
  }
 },
 "nbformat": 4,
 "nbformat_minor": 5
}
