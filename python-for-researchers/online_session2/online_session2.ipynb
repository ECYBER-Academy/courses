{
 "cells": [
  {
   "cell_type": "code",
   "execution_count": null,
   "id": "581912be",
   "metadata": {},
   "outputs": [],
   "source": [
    "# optional\n",
    "import piplite \n",
    "piplite.install(\"seaborn\")"
   ]
  },
  {
   "cell_type": "code",
   "execution_count": null,
   "id": "8b0ff1a7",
   "metadata": {},
   "outputs": [],
   "source": [
    "import numpy as np\n",
    "import pandas as pd\n",
    "from scipy import stats\n",
    "import matplotlib.pyplot as plt\n",
    "import seaborn as sns"
   ]
  },
  {
   "cell_type": "code",
   "execution_count": null,
   "id": "d454b6c1",
   "metadata": {},
   "outputs": [],
   "source": [
    "from sklearn.model_selection import train_test_split\n",
    "from sklearn.preprocessing import StandardScaler    \n",
    "from sklearn.tree import DecisionTreeClassifier\n"
   ]
  },
  {
   "cell_type": "code",
   "execution_count": null,
   "id": "0b72e91f",
   "metadata": {},
   "outputs": [],
   "source": [
    "column_names = [\n",
    "    \"state\", \"county\", \"community\", \"communityname\", \"fold\", \"population\", \"householdsize\",\n",
    "    \"racepctblack\", \"racePctWhite\", \"racePctAsian\", \"racePctHisp\", \"agePct12t21\", \"agePct12t29\",\n",
    "    \"agePct16t24\", \"agePct65up\", \"numbUrban\", \"pctUrban\", \"medIncome\", \"pctWWage\", \"pctWFarmSelf\",\n",
    "    \"pctWInvInc\", \"pctWSocSec\", \"pctWPubAsst\", \"pctWRetire\", \"medFamInc\", \"perCapInc\", \"whitePerCap\",\n",
    "    \"blackPerCap\", \"indianPerCap\", \"AsianPerCap\", \"OtherPerCap\", \"HispPerCap\", \"NumUnderPov\",\n",
    "    \"PctPopUnderPov\", \"PctLess9thGrade\", \"PctNotHSGrad\", \"PctBSorMore\", \"PctUnemployed\", \"PctEmploy\",\n",
    "    \"PctEmplManu\", \"PctEmplProfServ\", \"PctOccupManu\", \"PctOccupMgmtProf\", \"MalePctDivorce\",\n",
    "    \"MalePctNevMarr\", \"FemalePctDiv\", \"TotalPctDiv\", \"PersPerFam\", \"PctFam2Par\", \"PctKids2Par\",\n",
    "    \"PctYoungKids2Par\", \"PctTeen2Par\", \"PctWorkMomYoungKids\", \"PctWorkMom\", \"NumIlleg\", \"PctIlleg\",\n",
    "    \"NumImmig\", \"PctImmigRecent\", \"PctImmigRec5\", \"PctImmigRec8\", \"PctImmigRec10\", \"PctRecentImmig\",\n",
    "    \"PctRecImmig5\", \"PctRecImmig8\", \"PctRecImmig10\", \"PctSpeakEnglOnly\", \"PctNotSpeakEnglWell\",\n",
    "    \"PctLargHouseFam\", \"PctLargHouseOccup\", \"PersPerOccupHous\", \"PersPerOwnOccHous\",\n",
    "    \"PersPerRentOccHous\", \"PctPersOwnOccup\", \"PctPersDenseHous\", \"PctHousLess3BR\", \"MedNumBR\",\n",
    "    \"HousVacant\", \"PctHousOccup\", \"PctHousOwnOcc\", \"PctVacantBoarded\", \"PctVacMore6Mos\",\n",
    "    \"MedYrHousBuilt\", \"PctHousNoPhone\", \"PctWOFullPlumb\", \"OwnOccLowQuart\", \"OwnOccMedVal\",\n",
    "    \"OwnOccHiQuart\", \"RentLowQ\", \"RentMedian\", \"RentHighQ\", \"MedRent\", \"MedRentPctHousInc\",\n",
    "    \"MedOwnCostPctInc\", \"MedOwnCostPctIncNoMtg\", \"NumInShelters\", \"NumStreet\", \"PctForeignBorn\",\n",
    "    \"PctBornSameState\", \"PctSameHouse85\", \"PctSameCity85\", \"PctSameState85\", \"LemasSwornFT\",\n",
    "    \"LemasSwFTPerPop\", \"LemasSwFTFieldOps\", \"LemasSwFTFieldPerPop\", \"LemasTotalReq\",\n",
    "    \"LemasTotReqPerPop\", \"PolicReqPerOffic\", \"PolicPerPop\", \"RacialMatchCommPol\", \"PctPolicWhite\",\n",
    "    \"PctPolicBlack\", \"PctPolicHisp\", \"PctPolicAsian\", \"PctPolicMinor\", \"OfficAssgnDrugUnits\",\n",
    "    \"NumKindsDrugsSeiz\", \"PolicAveOTWorked\", \"LandArea\", \"PopDens\", \"PctUsePubTrans\", \"PolicCars\",\n",
    "    \"PolicOperBudg\", \"LemasPctPolicOnPatr\", \"LemasGangUnitDeploy\", \"LemasPctOfficDrugUn\",\n",
    "    \"PolicBudgPerPop\", \"ViolentCrimesPerPop\"\n",
    "]\n",
    "data = pd.read_csv(\"communities.data\", header=None, names=column_names)"
   ]
  },
  {
   "cell_type": "code",
   "execution_count": null,
   "id": "b965d684",
   "metadata": {},
   "outputs": [],
   "source": [
    "clean_data = data.dropna()\n",
    "selected_cols = ['fold', 'medIncome','ViolentCrimesPerPop', 'PctUnemployed','PctSpeakEnglOnly']\n",
    "subset = clean_data[selected_cols]"
   ]
  },
  {
   "cell_type": "code",
   "execution_count": null,
   "id": "e264dc0e",
   "metadata": {},
   "outputs": [],
   "source": [
    "print(data.shape)\n",
    "clean_data = data.dropna()\n",
    "print(clean_data.shape)"
   ]
  },
  {
   "cell_type": "code",
   "execution_count": null,
   "id": "f7933e92",
   "metadata": {},
   "outputs": [],
   "source": [
    "selected_cols = ['fold', 'medIncome','ViolentCrimesPerPop', 'PctUnemployed','PctSpeakEnglOnly']\n",
    "subset = clean_data[selected_cols]"
   ]
  },
  {
   "cell_type": "code",
   "execution_count": null,
   "id": "2cad00de",
   "metadata": {},
   "outputs": [],
   "source": [
    "np_data = subset.to_numpy()\n",
    "print(np.mean(np_data, axis=0))\n",
    "print(np.max(np_data, axis=0))\n",
    "print(np.min(np_data, axis=0))"
   ]
  },
  {
   "cell_type": "code",
   "execution_count": null,
   "id": "175dc560",
   "metadata": {},
   "outputs": [],
   "source": [
    "variance = stats.tvar(clean_data[\"population\"])\n",
    "std_dev = stats.tstd(subset)\n",
    "print(\"Variance : \" , variance)\n",
    "print(\"Standard Deviation : \" , std_dev)"
   ]
  },
  {
   "cell_type": "code",
   "execution_count": null,
   "id": "7a2deaeb",
   "metadata": {},
   "outputs": [],
   "source": [
    "shaprio_stat, shapiro_p = stats.shapiro(clean_data[\"population\"])\n",
    "print(\"Stat: \", shaprio_stat)\n",
    "print(\"P-Value: \", shapiro_p)"
   ]
  },
  {
   "cell_type": "code",
   "execution_count": null,
   "id": "0080e2fa",
   "metadata": {},
   "outputs": [],
   "source": [
    "corr, p_value = stats.pearsonr(clean_data[\"population\"], clean_data[\"ViolentCrimesPerPop\"])\n",
    "print(corr)\n",
    "print(p_value)"
   ]
  },
  {
   "cell_type": "code",
   "execution_count": null,
   "id": "6a0665b5",
   "metadata": {},
   "outputs": [],
   "source": [
    "scaler = StandardScaler()\n",
    "normalize = scaler.fit_transform(np_data)\n",
    "np.mean(normalize)\n",
    "stats.tstd(normalize)"
   ]
  },
  {
   "cell_type": "code",
   "execution_count": null,
   "id": "a18c5224",
   "metadata": {},
   "outputs": [],
   "source": [
    "print(stats.skew(clean_data[\"population\"]))\n",
    "print(stats.skew(clean_data[\"medIncome\"]))\n",
    "print(stats.skew(clean_data[\"ViolentCrimesPerPop\"]))\n",
    "print(stats.skew(clean_data[\"PctUnemployed\"]))\n",
    "\n",
    "print(stats.kurtosis(clean_data[\"population\"]))\n",
    "print(stats.kurtosis(clean_data[\"medIncome\"]))\n",
    "print(stats.kurtosis(clean_data[\"ViolentCrimesPerPop\"]))\n",
    "print(stats.kurtosis(clean_data[\"PctUnemployed\"]))"
   ]
  },
  {
   "cell_type": "code",
   "execution_count": null,
   "id": "acb1679c",
   "metadata": {},
   "outputs": [],
   "source": [
    "y_class = (clean_data[\"ViolentCrimesPerPop\"] > 0.5).astype(int)\n",
    "x_train, x_test, y_train, y_test = train_test_split(subset, y_class, test_size=0.2,random_state = 42)\n",
    "clf = DecisionTreeClassifier(max_depth=4)\n",
    "clf.fit(x_train, y_train)\n",
    "\n",
    "print(clf.score(x_test, y_test))"
   ]
  },
  {
   "cell_type": "code",
   "execution_count": null,
   "id": "0a120516",
   "metadata": {},
   "outputs": [],
   "source": [
    "#x = clean_data.drop(columns=['state', 'county', 'community'])\n",
    "x = subset.select_dtypes(include=[np.number]).drop(columns=[\"ViolentCrimesPerPop\"])\n",
    "print(subset.shape)\n",
    "print(x.shape)"
   ]
  },
  {
   "cell_type": "code",
   "execution_count": null,
   "id": "46fe0a69",
   "metadata": {},
   "outputs": [],
   "source": [
    "from sklearn.decomposition import PCA"
   ]
  },
  {
   "cell_type": "code",
   "execution_count": null,
   "id": "48e0002a",
   "metadata": {},
   "outputs": [],
   "source": [
    "pca = PCA(n_components=2)\n",
    "x_pca = pca.fit_transform(x)\n",
    "print(x_pca)"
   ]
  },
  {
   "cell_type": "code",
   "execution_count": null,
   "id": "df9d9847",
   "metadata": {},
   "outputs": [],
   "source": [
    "from sklearn.cluster import KMeans"
   ]
  },
  {
   "cell_type": "code",
   "execution_count": null,
   "id": "d42a00f6",
   "metadata": {},
   "outputs": [],
   "source": [
    "k_means = KMeans(n_clusters=3)\n",
    "x[\"cluster\"] = k_means.fit_predict(x)\n",
    "\n",
    "plt.scatter(x_pca[:,0], x_pca[:,1], c=x[\"cluster\"])\n",
    "plt.title(\"PCA\")\n",
    "plt.xlabel(\"PC1\")\n",
    "plt.ylabel(\"PC2\")\n",
    "plt.show()"
   ]
  }
 ],
 "metadata": {
  "language_info": {
   "name": "python"
  }
 },
 "nbformat": 4,
 "nbformat_minor": 5
}
